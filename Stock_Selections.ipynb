{
 "cells": [
  {
   "cell_type": "code",
   "execution_count": 16,
   "metadata": {},
   "outputs": [],
   "source": [
    "#Importing relevant libraries.\n",
    "import pandas as pd\n",
    "import random as random"
   ]
  },
  {
   "cell_type": "code",
   "execution_count": 17,
   "metadata": {},
   "outputs": [],
   "source": [
    "# pecifying all of the files to be merged. They'll be stored in the file_names directory.\n",
    "file_names = ['/Applications/Bellarmine DS Spring 2024/DS Senior Capstone/Final Project/Citadel Quarterly Data 2022/Citadel Advisors LLC Q1 2022 13F Top Portfolio Holdings.csv', \n",
    "              '/Applications/Bellarmine DS Spring 2024/DS Senior Capstone/Final Project/Citadel Quarterly Data 2022/Citadel Advisors LLC Q2 2022 13F Top Portfolio Holdings.csv', \n",
    "              '/Applications/Bellarmine DS Spring 2024/DS Senior Capstone/Final Project/Citadel Quarterly Data 2022/Citadel Advisors LLC Q3 2022 13F Top Portfolio Holdings.csv', \n",
    "              '/Applications/Bellarmine DS Spring 2024/DS Senior Capstone/Final Project/Citadel Quarterly Data 2022/Citadel Advisors LLC Q4 2022 13F Top Portfolio Holdings.csv']\n"
   ]
  },
  {
   "cell_type": "code",
   "execution_count": 18,
   "metadata": {},
   "outputs": [],
   "source": [
    "#Setting this directory as a Data Frame.\n",
    "merged_data = pd.DataFrame()\n"
   ]
  },
  {
   "cell_type": "code",
   "execution_count": 19,
   "metadata": {},
   "outputs": [],
   "source": [
    "#Reading each CSV file in this list.\n",
    "for file_name in file_names:\n",
    "    df = pd.read_csv(file_name)"
   ]
  },
  {
   "cell_type": "code",
   "execution_count": 20,
   "metadata": {},
   "outputs": [
    {
     "name": "stderr",
     "output_type": "stream",
     "text": [
      "/var/folders/y_/cjxdj51j5znbssdf31jd68fw0000gn/T/ipykernel_10709/595245706.py:2: FutureWarning: The frame.append method is deprecated and will be removed from pandas in a future version. Use pandas.concat instead.\n",
      "  merged_data = df.append([merged_data, df], ignore_index=True)\n"
     ]
    }
   ],
   "source": [
    "#Merging the current DataFrame with the overall merged_data.\n",
    "merged_data = df.append([merged_data, df], ignore_index=True)"
   ]
  },
  {
   "cell_type": "code",
   "execution_count": 21,
   "metadata": {},
   "outputs": [],
   "source": [
    "#File directory/location for which the new merged file will be stored.\n",
    "merged_data.to_csv('/Applications/Bellarmine DS Spring 2024/DS Senior Capstone/Final Project/Exploratory Data Analysis/merged_file.csv', index=False)"
   ]
  },
  {
   "cell_type": "code",
   "execution_count": 22,
   "metadata": {},
   "outputs": [
    {
     "data": {
      "text/html": [
       "<div>\n",
       "<style scoped>\n",
       "    .dataframe tbody tr th:only-of-type {\n",
       "        vertical-align: middle;\n",
       "    }\n",
       "\n",
       "    .dataframe tbody tr th {\n",
       "        vertical-align: top;\n",
       "    }\n",
       "\n",
       "    .dataframe thead th {\n",
       "        text-align: right;\n",
       "    }\n",
       "</style>\n",
       "<table border=\"1\" class=\"dataframe\">\n",
       "  <thead>\n",
       "    <tr style=\"text-align: right;\">\n",
       "      <th></th>\n",
       "      <th>Sym</th>\n",
       "      <th>Issuer Name</th>\n",
       "      <th>Cl</th>\n",
       "      <th>CUSIP</th>\n",
       "      <th>Value ($000)</th>\n",
       "      <th>%</th>\n",
       "      <th>Shares</th>\n",
       "      <th>Principal</th>\n",
       "      <th>Option Type</th>\n",
       "    </tr>\n",
       "  </thead>\n",
       "  <tbody>\n",
       "    <tr>\n",
       "      <th>0</th>\n",
       "      <td>SPY</td>\n",
       "      <td>SPDR S&amp;P 500 ETF TR</td>\n",
       "      <td>TR UNIT</td>\n",
       "      <td>78462F103</td>\n",
       "      <td>32,541,083</td>\n",
       "      <td>7.6%</td>\n",
       "      <td>85,090,300</td>\n",
       "      <td>NaN</td>\n",
       "      <td>put</td>\n",
       "    </tr>\n",
       "    <tr>\n",
       "      <th>1</th>\n",
       "      <td>SPY</td>\n",
       "      <td>SPDR S&amp;P 500 ETF TR</td>\n",
       "      <td>TR UNIT</td>\n",
       "      <td>78462F103</td>\n",
       "      <td>30,627,900</td>\n",
       "      <td>7.2%</td>\n",
       "      <td>80,087,600</td>\n",
       "      <td>NaN</td>\n",
       "      <td>call</td>\n",
       "    </tr>\n",
       "    <tr>\n",
       "      <th>2</th>\n",
       "      <td>QQQ</td>\n",
       "      <td>INVESCO QQQ TR</td>\n",
       "      <td>UNIT SER 1</td>\n",
       "      <td>46090E103</td>\n",
       "      <td>10,636,661</td>\n",
       "      <td>2.5%</td>\n",
       "      <td>39,945,400</td>\n",
       "      <td>NaN</td>\n",
       "      <td>call</td>\n",
       "    </tr>\n",
       "    <tr>\n",
       "      <th>3</th>\n",
       "      <td>QQQ</td>\n",
       "      <td>INVESCO QQQ TR</td>\n",
       "      <td>UNIT SER 1</td>\n",
       "      <td>46090E103</td>\n",
       "      <td>10,011,089</td>\n",
       "      <td>2.3%</td>\n",
       "      <td>37,596,100</td>\n",
       "      <td>NaN</td>\n",
       "      <td>put</td>\n",
       "    </tr>\n",
       "    <tr>\n",
       "      <th>4</th>\n",
       "      <td>TSLA</td>\n",
       "      <td>TESLA INC</td>\n",
       "      <td>COM</td>\n",
       "      <td>88160R101</td>\n",
       "      <td>8,859,167</td>\n",
       "      <td>2.1%</td>\n",
       "      <td>71,920,500</td>\n",
       "      <td>NaN</td>\n",
       "      <td>call</td>\n",
       "    </tr>\n",
       "    <tr>\n",
       "      <th>...</th>\n",
       "      <td>...</td>\n",
       "      <td>...</td>\n",
       "      <td>...</td>\n",
       "      <td>...</td>\n",
       "      <td>...</td>\n",
       "      <td>...</td>\n",
       "      <td>...</td>\n",
       "      <td>...</td>\n",
       "      <td>...</td>\n",
       "    </tr>\n",
       "    <tr>\n",
       "      <th>14808</th>\n",
       "      <td>BODY</td>\n",
       "      <td>THE BEACHBODY COMPANY INC</td>\n",
       "      <td>COM CL A</td>\n",
       "      <td>073463101</td>\n",
       "      <td>0</td>\n",
       "      <td>0.0%</td>\n",
       "      <td>8</td>\n",
       "      <td>NaN</td>\n",
       "      <td>NaN</td>\n",
       "    </tr>\n",
       "    <tr>\n",
       "      <th>14809</th>\n",
       "      <td>FOA</td>\n",
       "      <td>FINANCE OF AMERICA COMPAN</td>\n",
       "      <td>COM CL A</td>\n",
       "      <td>31738L107</td>\n",
       "      <td>0</td>\n",
       "      <td>0.0%</td>\n",
       "      <td>2</td>\n",
       "      <td>NaN</td>\n",
       "      <td>NaN</td>\n",
       "    </tr>\n",
       "    <tr>\n",
       "      <th>14810</th>\n",
       "      <td>VIRI</td>\n",
       "      <td>VIRIOS THERAPEUTICS INC</td>\n",
       "      <td>COM</td>\n",
       "      <td>92829J104</td>\n",
       "      <td>0</td>\n",
       "      <td>0.0%</td>\n",
       "      <td>5</td>\n",
       "      <td>NaN</td>\n",
       "      <td>NaN</td>\n",
       "    </tr>\n",
       "    <tr>\n",
       "      <th>14811</th>\n",
       "      <td>MRIN</td>\n",
       "      <td>MARIN SOFTWARE INC</td>\n",
       "      <td>COM NEW</td>\n",
       "      <td>56804T205</td>\n",
       "      <td>0</td>\n",
       "      <td>0.0%</td>\n",
       "      <td>1</td>\n",
       "      <td>NaN</td>\n",
       "      <td>NaN</td>\n",
       "    </tr>\n",
       "    <tr>\n",
       "      <th>14812</th>\n",
       "      <td>ENOB</td>\n",
       "      <td>ENOCHIAN BIOSCIENCES INC</td>\n",
       "      <td>COM</td>\n",
       "      <td>29350E104</td>\n",
       "      <td>0</td>\n",
       "      <td>0.0%</td>\n",
       "      <td>1</td>\n",
       "      <td>NaN</td>\n",
       "      <td>NaN</td>\n",
       "    </tr>\n",
       "  </tbody>\n",
       "</table>\n",
       "<p>14813 rows × 9 columns</p>\n",
       "</div>"
      ],
      "text/plain": [
       "        Sym                Issuer Name          Cl      CUSIP Value ($000)  \\\n",
       "0       SPY        SPDR S&P 500 ETF TR     TR UNIT  78462F103   32,541,083   \n",
       "1       SPY        SPDR S&P 500 ETF TR     TR UNIT  78462F103   30,627,900   \n",
       "2       QQQ             INVESCO QQQ TR  UNIT SER 1  46090E103   10,636,661   \n",
       "3       QQQ             INVESCO QQQ TR  UNIT SER 1  46090E103   10,011,089   \n",
       "4      TSLA                  TESLA INC         COM  88160R101    8,859,167   \n",
       "...     ...                        ...         ...        ...          ...   \n",
       "14808  BODY  THE BEACHBODY COMPANY INC    COM CL A  073463101            0   \n",
       "14809   FOA  FINANCE OF AMERICA COMPAN    COM CL A  31738L107            0   \n",
       "14810  VIRI    VIRIOS THERAPEUTICS INC         COM  92829J104            0   \n",
       "14811  MRIN         MARIN SOFTWARE INC     COM NEW  56804T205            0   \n",
       "14812  ENOB   ENOCHIAN BIOSCIENCES INC         COM  29350E104            0   \n",
       "\n",
       "          %      Shares Principal Option Type  \n",
       "0      7.6%  85,090,300       NaN         put  \n",
       "1      7.2%  80,087,600       NaN        call  \n",
       "2      2.5%  39,945,400       NaN        call  \n",
       "3      2.3%  37,596,100       NaN         put  \n",
       "4      2.1%  71,920,500       NaN        call  \n",
       "...     ...         ...       ...         ...  \n",
       "14808  0.0%           8       NaN         NaN  \n",
       "14809  0.0%           2       NaN         NaN  \n",
       "14810  0.0%           5       NaN         NaN  \n",
       "14811  0.0%           1       NaN         NaN  \n",
       "14812  0.0%           1       NaN         NaN  \n",
       "\n",
       "[14813 rows x 9 columns]"
      ]
     },
     "execution_count": 22,
     "metadata": {},
     "output_type": "execute_result"
    }
   ],
   "source": [
    "df"
   ]
  },
  {
   "cell_type": "code",
   "execution_count": 23,
   "metadata": {},
   "outputs": [],
   "source": [
    "#Reading the CSV file into a Data Frame.\n",
    "\n",
    "file_path = '/Applications/Bellarmine DS Spring 2024/DS Senior Capstone/Final Project/merged_file.csv'\n",
    "data = pd.read_csv(file_path)"
   ]
  },
  {
   "cell_type": "code",
   "execution_count": 24,
   "metadata": {},
   "outputs": [
    {
     "name": "stdout",
     "output_type": "stream",
     "text": [
      "5 random values in column 'Sym': ['BJ', 'FRLN', 'OSW', 'LAUR', 'BSMX']\n"
     ]
    }
   ],
   "source": [
    "#Selecting a specific column, in this case it is the Symbol (Or company name) column.\n",
    "selected_column = 'Sym'\n",
    "column_data = data[selected_column]\n",
    "\n",
    "#Pick a random cell from the Symbol column and returning 5 random selections\n",
    "#Code has been re-ran more than once for stocks that don't have data from 2018-2023\n",
    "random_values = [random.choice(column_data) for _ in range(5)]\n",
    "print(f\"5 random values in column '{selected_column}': {random_values}\")"
   ]
  }
 ],
 "metadata": {
  "kernelspec": {
   "display_name": "base",
   "language": "python",
   "name": "python3"
  },
  "language_info": {
   "codemirror_mode": {
    "name": "ipython",
    "version": 3
   },
   "file_extension": ".py",
   "mimetype": "text/x-python",
   "name": "python",
   "nbconvert_exporter": "python",
   "pygments_lexer": "ipython3",
   "version": "3.9.13"
  }
 },
 "nbformat": 4,
 "nbformat_minor": 2
}
